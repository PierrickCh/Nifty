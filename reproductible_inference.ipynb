{
 "cells": [
  {
   "cell_type": "markdown",
   "id": "6570b7fa",
   "metadata": {},
   "source": [
    "# Seeded inference for Table 1 metrics\n",
    "GPU used: NVIDIA RTX 4000 Ada Generation (20GB)"
   ]
  },
  {
   "cell_type": "code",
   "execution_count": null,
   "id": "5fc80782",
   "metadata": {},
   "outputs": [],
   "source": [
    "from Nifty.method import *\n",
    "from Nifty.networks import *\n",
    "from Nifty.TO import TextureOptimization\n",
    "import warnings; warnings.filterwarnings('ignore')\n",
    "\n",
    "output_size = 512"
   ]
  },
  {
   "cell_type": "markdown",
   "id": "154e4ee9",
   "metadata": {},
   "source": [
    "## Nifty"
   ]
  },
  {
   "cell_type": "code",
   "execution_count": null,
   "id": "e04f6118",
   "metadata": {},
   "outputs": [
    {
     "name": "stderr",
     "output_type": "stream",
     "text": [
      "100%|██████████| 12/12 [01:32<00:00,  7.73s/it]"
     ]
    },
    {
     "name": "stdout",
     "output_type": "stream",
     "text": [
      "Nifty time: 0.70 s\n"
     ]
    },
    {
     "name": "stderr",
     "output_type": "stream",
     "text": [
      "\n"
     ]
    }
   ],
   "source": [
    "time_nifty=0\n",
    "for j in tqdm(range(1,13)):\n",
    "    im_name='%s.png'%j\n",
    "    path=os.path.join('./comparison/eval_base/', im_name)\n",
    "    img = Tensor_load(path)\n",
    "    os.makedirs('./comparison/synthesis4metrics/%d/nifty'%j, exist_ok=True)\n",
    "    for i in range(10):\n",
    "        torch.manual_seed(i)\n",
    "        tic= time.time()\n",
    "        synth= Nifty(img,rs=1,T=15,k=5,patchsize=16,stride=4,octaves=4,size=(512,512),renoise=0.5,warmup=0,memory=True,show=False,save=False)\n",
    "        time_nifty+=time.time()-tic\n",
    "        imsave('./comparison/synthesis4metrics/%d/nifty/%d.png'%(j,i),synth)\n",
    "print('Nifty time: %.2f s'%(time_nifty/120))"
   ]
  },
  {
   "cell_type": "markdown",
   "id": "44990937",
   "metadata": {},
   "source": [
    "## Texture Optimization"
   ]
  },
  {
   "cell_type": "code",
   "execution_count": null,
   "id": "c43b70ff",
   "metadata": {},
   "outputs": [
    {
     "name": "stderr",
     "output_type": "stream",
     "text": [
      "100%|██████████| 12/12 [04:00<00:00, 20.01s/it]"
     ]
    },
    {
     "name": "stdout",
     "output_type": "stream",
     "text": [
      "Kwatra time: 1.92 s\n"
     ]
    },
    {
     "name": "stderr",
     "output_type": "stream",
     "text": [
      "\n"
     ]
    }
   ],
   "source": [
    "time_kwatra=0\n",
    "for j in tqdm(range(1,13)):\n",
    "    im_name='%d.png'%j\n",
    "    path=os.path.join('./comparison/eval_base/', im_name)\n",
    "    img = Tensor_load(path)*.5+.5\n",
    "    os.makedirs('./comparison/synthesis4metrics/%d/kwatra'%j, exist_ok=True)\n",
    "\n",
    "    for i in range(10):\n",
    "        torch.manual_seed(i)\n",
    "        tic=time.time()\n",
    "        synth,loss = TextureOptimization(img,N_subsampling=10000000, output_size=512)\n",
    "        time_kwatra+=time.time()-tic\n",
    "        imsave('./comparison/synthesis4metrics/%d/kwatra/%d.png'%(j,i),synth*2-1) \n",
    "print('Kwatra time: %.2f s'%(time_kwatra/120))"
   ]
  },
  {
   "cell_type": "markdown",
   "id": "9ec137aa",
   "metadata": {},
   "source": [
    "## U-Net approximation of the flow"
   ]
  },
  {
   "cell_type": "code",
   "execution_count": null,
   "id": "56b44607",
   "metadata": {},
   "outputs": [
    {
     "name": "stdout",
     "output_type": "stream",
     "text": [
      "Will train a network for images: 1,2,3,4,5,6,7,8,9,10,11,12\n"
     ]
    },
    {
     "name": "stderr",
     "output_type": "stream",
     "text": [
      "  0%|          | 0/12 [00:02<?, ?it/s]\n"
     ]
    },
    {
     "ename": "KeyboardInterrupt",
     "evalue": "",
     "output_type": "error",
     "traceback": [
      "\u001b[31m---------------------------------------------------------------------------\u001b[39m",
      "\u001b[31mKeyboardInterrupt\u001b[39m                         Traceback (most recent call last)",
      "\u001b[36mCell\u001b[39m\u001b[36m \u001b[39m\u001b[32mIn[8]\u001b[39m\u001b[32m, line 36\u001b[39m\n\u001b[32m     34\u001b[39m     torch.manual_seed(\u001b[32m0\u001b[39m)\n\u001b[32m     35\u001b[39m     tic=time.time()\n\u001b[32m---> \u001b[39m\u001b[32m36\u001b[39m     \u001b[43mtrain_flow_net\u001b[49m\u001b[43m(\u001b[49m\u001b[43m(\u001b[49m\u001b[43mimg\u001b[49m\u001b[43m-\u001b[49m\u001b[43mmu\u001b[49m\u001b[43m)\u001b[49m\u001b[43m/\u001b[49m\u001b[43msigma\u001b[49m\u001b[43m \u001b[49m\u001b[43m,\u001b[49m\u001b[43m \u001b[49m\u001b[43mflow_model\u001b[49m\u001b[43m,\u001b[49m\u001b[43mload\u001b[49m\u001b[43m=\u001b[49m\u001b[38;5;28;43;01mFalse\u001b[39;49;00m\u001b[43m,\u001b[49m\u001b[43mepochs\u001b[49m\u001b[43m=\u001b[49m\u001b[32;43m10000\u001b[39;49m\u001b[43m,\u001b[49m\u001b[43mshow\u001b[49m\u001b[43m=\u001b[49m\u001b[38;5;28;43;01mFalse\u001b[39;49;00m\u001b[43m,\u001b[49m\u001b[43msave_name\u001b[49m\u001b[43m=\u001b[49m\u001b[33;43m'\u001b[39;49m\u001b[33;43mcomparison/models4metrics/\u001b[39;49m\u001b[38;5;132;43;01m%d\u001b[39;49;00m\u001b[33;43m.pth\u001b[39;49m\u001b[33;43m'\u001b[39;49m\u001b[43m%\u001b[49m\u001b[43mj\u001b[49m\u001b[43m)\u001b[49m\n\u001b[32m     37\u001b[39m     train_time_fm+=time.time()-tic\n\u001b[32m     38\u001b[39m \u001b[38;5;28;01melse\u001b[39;00m:\n",
      "\u001b[36mFile \u001b[39m\u001b[32m~/Documents/projects/Nifty/code/networks.py:31\u001b[39m, in \u001b[36mtrain_flow_net\u001b[39m\u001b[34m(img_clean, model, device, epochs, load, show, save_name)\u001b[39m\n\u001b[32m     28\u001b[39m img_noisy = gt*t + noise*(\u001b[32m1\u001b[39m-t)\n\u001b[32m     29\u001b[39m true_flow = gt - noise\n\u001b[32m---> \u001b[39m\u001b[32m31\u001b[39m pred_flow = \u001b[43mmodel\u001b[49m\u001b[43m(\u001b[49m\u001b[43mimg_noisy\u001b[49m\u001b[43m,\u001b[49m\u001b[43mt\u001b[49m\u001b[43m.\u001b[49m\u001b[43msqueeze\u001b[49m\u001b[43m(\u001b[49m\u001b[43m-\u001b[49m\u001b[32;43m1\u001b[39;49m\u001b[43m)\u001b[49m\u001b[43m.\u001b[49m\u001b[43msqueeze\u001b[49m\u001b[43m(\u001b[49m\u001b[43m-\u001b[49m\u001b[32;43m1\u001b[39;49m\u001b[43m)\u001b[49m\u001b[43m.\u001b[49m\u001b[43msqueeze\u001b[49m\u001b[43m(\u001b[49m\u001b[43m-\u001b[49m\u001b[32;43m1\u001b[39;49m\u001b[43m)\u001b[49m\u001b[43m)\u001b[49m\n\u001b[32m     33\u001b[39m loss = loss_fn(true_flow, pred_flow)\n\u001b[32m     35\u001b[39m optimizer.zero_grad()\n",
      "\u001b[36mFile \u001b[39m\u001b[32m~/anaconda3/envs/simulditex/lib/python3.12/site-packages/torch/nn/modules/module.py:1736\u001b[39m, in \u001b[36mModule._wrapped_call_impl\u001b[39m\u001b[34m(self, *args, **kwargs)\u001b[39m\n\u001b[32m   1734\u001b[39m     \u001b[38;5;28;01mreturn\u001b[39;00m \u001b[38;5;28mself\u001b[39m._compiled_call_impl(*args, **kwargs)  \u001b[38;5;66;03m# type: ignore[misc]\u001b[39;00m\n\u001b[32m   1735\u001b[39m \u001b[38;5;28;01melse\u001b[39;00m:\n\u001b[32m-> \u001b[39m\u001b[32m1736\u001b[39m     \u001b[38;5;28;01mreturn\u001b[39;00m \u001b[38;5;28;43mself\u001b[39;49m\u001b[43m.\u001b[49m\u001b[43m_call_impl\u001b[49m\u001b[43m(\u001b[49m\u001b[43m*\u001b[49m\u001b[43margs\u001b[49m\u001b[43m,\u001b[49m\u001b[43m \u001b[49m\u001b[43m*\u001b[49m\u001b[43m*\u001b[49m\u001b[43mkwargs\u001b[49m\u001b[43m)\u001b[49m\n",
      "\u001b[36mFile \u001b[39m\u001b[32m~/anaconda3/envs/simulditex/lib/python3.12/site-packages/torch/nn/modules/module.py:1747\u001b[39m, in \u001b[36mModule._call_impl\u001b[39m\u001b[34m(self, *args, **kwargs)\u001b[39m\n\u001b[32m   1742\u001b[39m \u001b[38;5;66;03m# If we don't have any hooks, we want to skip the rest of the logic in\u001b[39;00m\n\u001b[32m   1743\u001b[39m \u001b[38;5;66;03m# this function, and just call forward.\u001b[39;00m\n\u001b[32m   1744\u001b[39m \u001b[38;5;28;01mif\u001b[39;00m \u001b[38;5;129;01mnot\u001b[39;00m (\u001b[38;5;28mself\u001b[39m._backward_hooks \u001b[38;5;129;01mor\u001b[39;00m \u001b[38;5;28mself\u001b[39m._backward_pre_hooks \u001b[38;5;129;01mor\u001b[39;00m \u001b[38;5;28mself\u001b[39m._forward_hooks \u001b[38;5;129;01mor\u001b[39;00m \u001b[38;5;28mself\u001b[39m._forward_pre_hooks\n\u001b[32m   1745\u001b[39m         \u001b[38;5;129;01mor\u001b[39;00m _global_backward_pre_hooks \u001b[38;5;129;01mor\u001b[39;00m _global_backward_hooks\n\u001b[32m   1746\u001b[39m         \u001b[38;5;129;01mor\u001b[39;00m _global_forward_hooks \u001b[38;5;129;01mor\u001b[39;00m _global_forward_pre_hooks):\n\u001b[32m-> \u001b[39m\u001b[32m1747\u001b[39m     \u001b[38;5;28;01mreturn\u001b[39;00m \u001b[43mforward_call\u001b[49m\u001b[43m(\u001b[49m\u001b[43m*\u001b[49m\u001b[43margs\u001b[49m\u001b[43m,\u001b[49m\u001b[43m \u001b[49m\u001b[43m*\u001b[49m\u001b[43m*\u001b[49m\u001b[43mkwargs\u001b[49m\u001b[43m)\u001b[49m\n\u001b[32m   1749\u001b[39m result = \u001b[38;5;28;01mNone\u001b[39;00m\n\u001b[32m   1750\u001b[39m called_always_called_hooks = \u001b[38;5;28mset\u001b[39m()\n",
      "\u001b[36mFile \u001b[39m\u001b[32m~/Documents/projects/Nifty/code/networks.py:250\u001b[39m, in \u001b[36mUNet.forward\u001b[39m\u001b[34m(self, x, time, scale, x_self_cond)\u001b[39m\n\u001b[32m    247\u001b[39m h = []\n\u001b[32m    249\u001b[39m \u001b[38;5;28;01mfor\u001b[39;00m block1, block2, downsample \u001b[38;5;129;01min\u001b[39;00m \u001b[38;5;28mself\u001b[39m.downs:\n\u001b[32m--> \u001b[39m\u001b[32m250\u001b[39m     x = \u001b[43mblock1\u001b[49m\u001b[43m(\u001b[49m\u001b[43mx\u001b[49m\u001b[43m,\u001b[49m\u001b[43m \u001b[49m\u001b[43mt\u001b[49m\u001b[43m)\u001b[49m\n\u001b[32m    251\u001b[39m     h.append(x)\n\u001b[32m    252\u001b[39m     x = block2(x, t)\n",
      "\u001b[36mFile \u001b[39m\u001b[32m~/anaconda3/envs/simulditex/lib/python3.12/site-packages/torch/nn/modules/module.py:1736\u001b[39m, in \u001b[36mModule._wrapped_call_impl\u001b[39m\u001b[34m(self, *args, **kwargs)\u001b[39m\n\u001b[32m   1734\u001b[39m     \u001b[38;5;28;01mreturn\u001b[39;00m \u001b[38;5;28mself\u001b[39m._compiled_call_impl(*args, **kwargs)  \u001b[38;5;66;03m# type: ignore[misc]\u001b[39;00m\n\u001b[32m   1735\u001b[39m \u001b[38;5;28;01melse\u001b[39;00m:\n\u001b[32m-> \u001b[39m\u001b[32m1736\u001b[39m     \u001b[38;5;28;01mreturn\u001b[39;00m \u001b[38;5;28;43mself\u001b[39;49m\u001b[43m.\u001b[49m\u001b[43m_call_impl\u001b[49m\u001b[43m(\u001b[49m\u001b[43m*\u001b[49m\u001b[43margs\u001b[49m\u001b[43m,\u001b[49m\u001b[43m \u001b[49m\u001b[43m*\u001b[49m\u001b[43m*\u001b[49m\u001b[43mkwargs\u001b[49m\u001b[43m)\u001b[49m\n",
      "\u001b[36mFile \u001b[39m\u001b[32m~/anaconda3/envs/simulditex/lib/python3.12/site-packages/torch/nn/modules/module.py:1747\u001b[39m, in \u001b[36mModule._call_impl\u001b[39m\u001b[34m(self, *args, **kwargs)\u001b[39m\n\u001b[32m   1742\u001b[39m \u001b[38;5;66;03m# If we don't have any hooks, we want to skip the rest of the logic in\u001b[39;00m\n\u001b[32m   1743\u001b[39m \u001b[38;5;66;03m# this function, and just call forward.\u001b[39;00m\n\u001b[32m   1744\u001b[39m \u001b[38;5;28;01mif\u001b[39;00m \u001b[38;5;129;01mnot\u001b[39;00m (\u001b[38;5;28mself\u001b[39m._backward_hooks \u001b[38;5;129;01mor\u001b[39;00m \u001b[38;5;28mself\u001b[39m._backward_pre_hooks \u001b[38;5;129;01mor\u001b[39;00m \u001b[38;5;28mself\u001b[39m._forward_hooks \u001b[38;5;129;01mor\u001b[39;00m \u001b[38;5;28mself\u001b[39m._forward_pre_hooks\n\u001b[32m   1745\u001b[39m         \u001b[38;5;129;01mor\u001b[39;00m _global_backward_pre_hooks \u001b[38;5;129;01mor\u001b[39;00m _global_backward_hooks\n\u001b[32m   1746\u001b[39m         \u001b[38;5;129;01mor\u001b[39;00m _global_forward_hooks \u001b[38;5;129;01mor\u001b[39;00m _global_forward_pre_hooks):\n\u001b[32m-> \u001b[39m\u001b[32m1747\u001b[39m     \u001b[38;5;28;01mreturn\u001b[39;00m \u001b[43mforward_call\u001b[49m\u001b[43m(\u001b[49m\u001b[43m*\u001b[49m\u001b[43margs\u001b[49m\u001b[43m,\u001b[49m\u001b[43m \u001b[49m\u001b[43m*\u001b[49m\u001b[43m*\u001b[49m\u001b[43mkwargs\u001b[49m\u001b[43m)\u001b[49m\n\u001b[32m   1749\u001b[39m result = \u001b[38;5;28;01mNone\u001b[39;00m\n\u001b[32m   1750\u001b[39m called_always_called_hooks = \u001b[38;5;28mset\u001b[39m()\n",
      "\u001b[36mFile \u001b[39m\u001b[32m~/Documents/projects/Nifty/code/networks.py:142\u001b[39m, in \u001b[36mResnetBlock.forward\u001b[39m\u001b[34m(self, x, time_emb)\u001b[39m\n\u001b[32m    139\u001b[39m     time_emb = rearrange(time_emb, \u001b[33m'\u001b[39m\u001b[33mb c -> b c 1 1\u001b[39m\u001b[33m'\u001b[39m)\n\u001b[32m    140\u001b[39m     scale_shift = time_emb.chunk(\u001b[32m2\u001b[39m, dim = \u001b[32m1\u001b[39m)\n\u001b[32m--> \u001b[39m\u001b[32m142\u001b[39m h = \u001b[38;5;28;43mself\u001b[39;49m\u001b[43m.\u001b[49m\u001b[43mblock1\u001b[49m\u001b[43m(\u001b[49m\u001b[43mx\u001b[49m\u001b[43m,\u001b[49m\u001b[43m \u001b[49m\u001b[43mscale_shift\u001b[49m\u001b[43m \u001b[49m\u001b[43m=\u001b[49m\u001b[43m \u001b[49m\u001b[43mscale_shift\u001b[49m\u001b[43m)\u001b[49m\n\u001b[32m    144\u001b[39m h = \u001b[38;5;28mself\u001b[39m.block2(h)\n\u001b[32m    146\u001b[39m \u001b[38;5;28;01mreturn\u001b[39;00m h + \u001b[38;5;28mself\u001b[39m.res_conv(x)\n",
      "\u001b[36mFile \u001b[39m\u001b[32m~/anaconda3/envs/simulditex/lib/python3.12/site-packages/torch/nn/modules/module.py:1736\u001b[39m, in \u001b[36mModule._wrapped_call_impl\u001b[39m\u001b[34m(self, *args, **kwargs)\u001b[39m\n\u001b[32m   1734\u001b[39m     \u001b[38;5;28;01mreturn\u001b[39;00m \u001b[38;5;28mself\u001b[39m._compiled_call_impl(*args, **kwargs)  \u001b[38;5;66;03m# type: ignore[misc]\u001b[39;00m\n\u001b[32m   1735\u001b[39m \u001b[38;5;28;01melse\u001b[39;00m:\n\u001b[32m-> \u001b[39m\u001b[32m1736\u001b[39m     \u001b[38;5;28;01mreturn\u001b[39;00m \u001b[38;5;28;43mself\u001b[39;49m\u001b[43m.\u001b[49m\u001b[43m_call_impl\u001b[49m\u001b[43m(\u001b[49m\u001b[43m*\u001b[49m\u001b[43margs\u001b[49m\u001b[43m,\u001b[49m\u001b[43m \u001b[49m\u001b[43m*\u001b[49m\u001b[43m*\u001b[49m\u001b[43mkwargs\u001b[49m\u001b[43m)\u001b[49m\n",
      "\u001b[36mFile \u001b[39m\u001b[32m~/anaconda3/envs/simulditex/lib/python3.12/site-packages/torch/nn/modules/module.py:1747\u001b[39m, in \u001b[36mModule._call_impl\u001b[39m\u001b[34m(self, *args, **kwargs)\u001b[39m\n\u001b[32m   1742\u001b[39m \u001b[38;5;66;03m# If we don't have any hooks, we want to skip the rest of the logic in\u001b[39;00m\n\u001b[32m   1743\u001b[39m \u001b[38;5;66;03m# this function, and just call forward.\u001b[39;00m\n\u001b[32m   1744\u001b[39m \u001b[38;5;28;01mif\u001b[39;00m \u001b[38;5;129;01mnot\u001b[39;00m (\u001b[38;5;28mself\u001b[39m._backward_hooks \u001b[38;5;129;01mor\u001b[39;00m \u001b[38;5;28mself\u001b[39m._backward_pre_hooks \u001b[38;5;129;01mor\u001b[39;00m \u001b[38;5;28mself\u001b[39m._forward_hooks \u001b[38;5;129;01mor\u001b[39;00m \u001b[38;5;28mself\u001b[39m._forward_pre_hooks\n\u001b[32m   1745\u001b[39m         \u001b[38;5;129;01mor\u001b[39;00m _global_backward_pre_hooks \u001b[38;5;129;01mor\u001b[39;00m _global_backward_hooks\n\u001b[32m   1746\u001b[39m         \u001b[38;5;129;01mor\u001b[39;00m _global_forward_hooks \u001b[38;5;129;01mor\u001b[39;00m _global_forward_pre_hooks):\n\u001b[32m-> \u001b[39m\u001b[32m1747\u001b[39m     \u001b[38;5;28;01mreturn\u001b[39;00m \u001b[43mforward_call\u001b[49m\u001b[43m(\u001b[49m\u001b[43m*\u001b[49m\u001b[43margs\u001b[49m\u001b[43m,\u001b[49m\u001b[43m \u001b[49m\u001b[43m*\u001b[49m\u001b[43m*\u001b[49m\u001b[43mkwargs\u001b[49m\u001b[43m)\u001b[49m\n\u001b[32m   1749\u001b[39m result = \u001b[38;5;28;01mNone\u001b[39;00m\n\u001b[32m   1750\u001b[39m called_always_called_hooks = \u001b[38;5;28mset\u001b[39m()\n",
      "\u001b[36mFile \u001b[39m\u001b[32m~/Documents/projects/Nifty/code/networks.py:112\u001b[39m, in \u001b[36mBlock.forward\u001b[39m\u001b[34m(self, x, scale_shift)\u001b[39m\n\u001b[32m    111\u001b[39m \u001b[38;5;28;01mdef\u001b[39;00m\u001b[38;5;250m \u001b[39m\u001b[34mforward\u001b[39m(\u001b[38;5;28mself\u001b[39m, x, scale_shift = \u001b[38;5;28;01mNone\u001b[39;00m):\n\u001b[32m--> \u001b[39m\u001b[32m112\u001b[39m     x = \u001b[38;5;28;43mself\u001b[39;49m\u001b[43m.\u001b[49m\u001b[43mproj\u001b[49m\u001b[43m(\u001b[49m\u001b[43mx\u001b[49m\u001b[43m)\u001b[49m\n\u001b[32m    113\u001b[39m     x = \u001b[38;5;28mself\u001b[39m.norm(x)\n\u001b[32m    115\u001b[39m     \u001b[38;5;28;01mif\u001b[39;00m exists(scale_shift):\n",
      "\u001b[36mFile \u001b[39m\u001b[32m~/anaconda3/envs/simulditex/lib/python3.12/site-packages/torch/nn/modules/module.py:1736\u001b[39m, in \u001b[36mModule._wrapped_call_impl\u001b[39m\u001b[34m(self, *args, **kwargs)\u001b[39m\n\u001b[32m   1734\u001b[39m     \u001b[38;5;28;01mreturn\u001b[39;00m \u001b[38;5;28mself\u001b[39m._compiled_call_impl(*args, **kwargs)  \u001b[38;5;66;03m# type: ignore[misc]\u001b[39;00m\n\u001b[32m   1735\u001b[39m \u001b[38;5;28;01melse\u001b[39;00m:\n\u001b[32m-> \u001b[39m\u001b[32m1736\u001b[39m     \u001b[38;5;28;01mreturn\u001b[39;00m \u001b[38;5;28;43mself\u001b[39;49m\u001b[43m.\u001b[49m\u001b[43m_call_impl\u001b[49m\u001b[43m(\u001b[49m\u001b[43m*\u001b[49m\u001b[43margs\u001b[49m\u001b[43m,\u001b[49m\u001b[43m \u001b[49m\u001b[43m*\u001b[49m\u001b[43m*\u001b[49m\u001b[43mkwargs\u001b[49m\u001b[43m)\u001b[49m\n",
      "\u001b[36mFile \u001b[39m\u001b[32m~/anaconda3/envs/simulditex/lib/python3.12/site-packages/torch/nn/modules/module.py:1747\u001b[39m, in \u001b[36mModule._call_impl\u001b[39m\u001b[34m(self, *args, **kwargs)\u001b[39m\n\u001b[32m   1742\u001b[39m \u001b[38;5;66;03m# If we don't have any hooks, we want to skip the rest of the logic in\u001b[39;00m\n\u001b[32m   1743\u001b[39m \u001b[38;5;66;03m# this function, and just call forward.\u001b[39;00m\n\u001b[32m   1744\u001b[39m \u001b[38;5;28;01mif\u001b[39;00m \u001b[38;5;129;01mnot\u001b[39;00m (\u001b[38;5;28mself\u001b[39m._backward_hooks \u001b[38;5;129;01mor\u001b[39;00m \u001b[38;5;28mself\u001b[39m._backward_pre_hooks \u001b[38;5;129;01mor\u001b[39;00m \u001b[38;5;28mself\u001b[39m._forward_hooks \u001b[38;5;129;01mor\u001b[39;00m \u001b[38;5;28mself\u001b[39m._forward_pre_hooks\n\u001b[32m   1745\u001b[39m         \u001b[38;5;129;01mor\u001b[39;00m _global_backward_pre_hooks \u001b[38;5;129;01mor\u001b[39;00m _global_backward_hooks\n\u001b[32m   1746\u001b[39m         \u001b[38;5;129;01mor\u001b[39;00m _global_forward_hooks \u001b[38;5;129;01mor\u001b[39;00m _global_forward_pre_hooks):\n\u001b[32m-> \u001b[39m\u001b[32m1747\u001b[39m     \u001b[38;5;28;01mreturn\u001b[39;00m \u001b[43mforward_call\u001b[49m\u001b[43m(\u001b[49m\u001b[43m*\u001b[49m\u001b[43margs\u001b[49m\u001b[43m,\u001b[49m\u001b[43m \u001b[49m\u001b[43m*\u001b[49m\u001b[43m*\u001b[49m\u001b[43mkwargs\u001b[49m\u001b[43m)\u001b[49m\n\u001b[32m   1749\u001b[39m result = \u001b[38;5;28;01mNone\u001b[39;00m\n\u001b[32m   1750\u001b[39m called_always_called_hooks = \u001b[38;5;28mset\u001b[39m()\n",
      "\u001b[36mFile \u001b[39m\u001b[32m~/anaconda3/envs/simulditex/lib/python3.12/site-packages/torch/nn/modules/conv.py:554\u001b[39m, in \u001b[36mConv2d.forward\u001b[39m\u001b[34m(self, input)\u001b[39m\n\u001b[32m    553\u001b[39m \u001b[38;5;28;01mdef\u001b[39;00m\u001b[38;5;250m \u001b[39m\u001b[34mforward\u001b[39m(\u001b[38;5;28mself\u001b[39m, \u001b[38;5;28minput\u001b[39m: Tensor) -> Tensor:\n\u001b[32m--> \u001b[39m\u001b[32m554\u001b[39m     \u001b[38;5;28;01mreturn\u001b[39;00m \u001b[38;5;28;43mself\u001b[39;49m\u001b[43m.\u001b[49m\u001b[43m_conv_forward\u001b[49m\u001b[43m(\u001b[49m\u001b[38;5;28;43minput\u001b[39;49m\u001b[43m,\u001b[49m\u001b[43m \u001b[49m\u001b[38;5;28;43mself\u001b[39;49m\u001b[43m.\u001b[49m\u001b[43mweight\u001b[49m\u001b[43m,\u001b[49m\u001b[43m \u001b[49m\u001b[38;5;28;43mself\u001b[39;49m\u001b[43m.\u001b[49m\u001b[43mbias\u001b[49m\u001b[43m)\u001b[49m\n",
      "\u001b[36mFile \u001b[39m\u001b[32m~/anaconda3/envs/simulditex/lib/python3.12/site-packages/torch/nn/modules/conv.py:549\u001b[39m, in \u001b[36mConv2d._conv_forward\u001b[39m\u001b[34m(self, input, weight, bias)\u001b[39m\n\u001b[32m    537\u001b[39m \u001b[38;5;28;01mif\u001b[39;00m \u001b[38;5;28mself\u001b[39m.padding_mode != \u001b[33m\"\u001b[39m\u001b[33mzeros\u001b[39m\u001b[33m\"\u001b[39m:\n\u001b[32m    538\u001b[39m     \u001b[38;5;28;01mreturn\u001b[39;00m F.conv2d(\n\u001b[32m    539\u001b[39m         F.pad(\n\u001b[32m    540\u001b[39m             \u001b[38;5;28minput\u001b[39m, \u001b[38;5;28mself\u001b[39m._reversed_padding_repeated_twice, mode=\u001b[38;5;28mself\u001b[39m.padding_mode\n\u001b[32m   (...)\u001b[39m\u001b[32m    547\u001b[39m         \u001b[38;5;28mself\u001b[39m.groups,\n\u001b[32m    548\u001b[39m     )\n\u001b[32m--> \u001b[39m\u001b[32m549\u001b[39m \u001b[38;5;28;01mreturn\u001b[39;00m \u001b[43mF\u001b[49m\u001b[43m.\u001b[49m\u001b[43mconv2d\u001b[49m\u001b[43m(\u001b[49m\n\u001b[32m    550\u001b[39m \u001b[43m    \u001b[49m\u001b[38;5;28;43minput\u001b[39;49m\u001b[43m,\u001b[49m\u001b[43m \u001b[49m\u001b[43mweight\u001b[49m\u001b[43m,\u001b[49m\u001b[43m \u001b[49m\u001b[43mbias\u001b[49m\u001b[43m,\u001b[49m\u001b[43m \u001b[49m\u001b[38;5;28;43mself\u001b[39;49m\u001b[43m.\u001b[49m\u001b[43mstride\u001b[49m\u001b[43m,\u001b[49m\u001b[43m \u001b[49m\u001b[38;5;28;43mself\u001b[39;49m\u001b[43m.\u001b[49m\u001b[43mpadding\u001b[49m\u001b[43m,\u001b[49m\u001b[43m \u001b[49m\u001b[38;5;28;43mself\u001b[39;49m\u001b[43m.\u001b[49m\u001b[43mdilation\u001b[49m\u001b[43m,\u001b[49m\u001b[43m \u001b[49m\u001b[38;5;28;43mself\u001b[39;49m\u001b[43m.\u001b[49m\u001b[43mgroups\u001b[49m\n\u001b[32m    551\u001b[39m \u001b[43m\u001b[49m\u001b[43m)\u001b[49m\n",
      "\u001b[31mKeyboardInterrupt\u001b[39m: "
     ]
    }
   ],
   "source": [
    "I_actually_want_to_retrain_networks_rather_than_unziping = True\n",
    "\n",
    "l_retrain=[]\n",
    "for j in range(1,13):\n",
    "    if not os.path.exists('comparison/models4metrics/%d.pth'%j):\n",
    "        l_retrain.append(str(j))\n",
    "if l_retrain!= []:\n",
    "    print('Will train a network for images: %s'%','.join(l_retrain))\n",
    "\n",
    "\n",
    "if l_retrain != [] and not I_actually_want_to_retrain_networks_rather_than_unziping:\n",
    "    raise RuntimeError(\n",
    "        \"Networks are available in a zip file. Unzip them or set \"\n",
    "        \"I_actually_want_to_retrain_networks_rather_than_unziping=True to retrain them.\"\n",
    "    )\n",
    "\n",
    "time_fm=0\n",
    "train_time_fm=0\n",
    "for j in tqdm(range(1,13),disable=False):\n",
    "    im_name='%d.png'%j\n",
    "    path=os.path.join('./comparison/eval_base/', im_name)\n",
    "    img = Tensor_load(path)\n",
    "    os.makedirs('./comparison/synthesis4metrics/%d/FM'%j, exist_ok=True)\n",
    "\n",
    "    mu,sigma=img.mean(),img.std()\n",
    "        \n",
    "    flow_model = UNet(\n",
    "        dim =16,\n",
    "        dim_mults = (1, 2, 4, 4))\n",
    "\n",
    "    if not os.path.exists('comparison/models4metrics/%d.pth'%j):\n",
    "        if I_actually_want_to_retrain_networks_rather_than_unziping:\n",
    "            os.makedirs('comparison/models4metrics', exist_ok=True)\n",
    "            torch.manual_seed(0)\n",
    "            tic=time.time()\n",
    "            train_flow_net((img-mu)/sigma , flow_model,load=False,epochs=10000,show=False,save_name='comparison/models4metrics/%d.pth'%j)\n",
    "            train_time_fm+=time.time()-tic\n",
    "        else:\n",
    "            print('Networks are available to unzip')\n",
    "\n",
    "    flow_model.load_state_dict(torch.load('comparison/models4metrics/%d.pth'%j, map_location='cuda'),strict=False)\n",
    "    flow_model.eval().cuda()\n",
    "\n",
    "\n",
    "    for i in range(10):\n",
    "        torch.manual_seed(i)\n",
    "        tic=time.time()\n",
    "        T=15\n",
    "        with torch.no_grad():\n",
    "            x=torch.randn(1,3,512,512).cuda()   \n",
    "            times=torch.linspace(0, 1, steps=T+1).cuda()\n",
    "            for it in range(T):\n",
    "                t=times[it]\n",
    "                t = t.to(device).unsqueeze(0)\n",
    "                flow = flow_model(x,t.view(1))\n",
    "                x=x+flow*(times[it+1]-times[it])\n",
    "        synth_nn = x*sigma+mu\n",
    "        time_fm+=time.time()-tic\n",
    "        imsave('./comparison/synthesis4metrics/%d/FM/%d.png'%(j,i),synth_nn)\n",
    "if l_retrain!=[]:\n",
    "    print('FM training time: %d min and %d s'%(train_time_fm/len(l_retrain)//60,int(train_time_fm/len(l_retrain)%60)))\n",
    "print('FM time: %.2f s'%(time_fm/120))\n"
   ]
  }
 ],
 "metadata": {
  "kernelspec": {
   "display_name": "simulditex",
   "language": "python",
   "name": "python3"
  },
  "language_info": {
   "codemirror_mode": {
    "name": "ipython",
    "version": 3
   },
   "file_extension": ".py",
   "mimetype": "text/x-python",
   "name": "python",
   "nbconvert_exporter": "python",
   "pygments_lexer": "ipython3",
   "version": "3.12.3"
  }
 },
 "nbformat": 4,
 "nbformat_minor": 5
}
